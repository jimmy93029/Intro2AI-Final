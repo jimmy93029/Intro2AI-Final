{
  "cells": [
    {
      "cell_type": "markdown",
      "metadata": {
        "id": "view-in-github",
        "colab_type": "text"
      },
      "source": [
        "<a href=\"https://colab.research.google.com/github/jimmy93029/Intro2AI-Final/blob/main/AI_Final_BASALT_test_Behavior_cloning.ipynb\" target=\"_parent\"><img src=\"https://colab.research.google.com/assets/colab-badge.svg\" alt=\"Open In Colab\"/></a>"
      ]
    },
    {
      "cell_type": "markdown",
      "metadata": {
        "id": "Pxwl_yG1qhR7"
      },
      "source": [
        "<div style=\"text-align: center\">\n",
        "  <img src=\"https://github.com/KarolisRam/MineRL2021-Intro-baselines/blob/main/img/colab_banner.png?raw=true\">\n",
        "</div>"
      ]
    },
    {
      "cell_type": "markdown",
      "metadata": {
        "id": "-_BGlQwngccr"
      },
      "source": [
        "# Introduction\n",
        "This notebook is the installation part for the [MineRL 2022](https://minerl.io/) competition, building on the original introductory notebooks created for the MineRL 2021 competition.\n",
        "\n",
        "## Note: About this file\n",
        "\n",
        "This file is updated by NYCU 2024 Spring Intro2AI Team 11: まふまふ.\n",
        "The original file is come from [here](https://colab.research.google.com/drive/1rJ3lGy-bG7kJRe_wYBWg7fjSaD9oOMDw?usp=sharing)\n",
        "\n",
        "## There's a video to explain...\n",
        "Please visit [this intro YouTube video](https://youtu.be/8yIrWcyWGek) to see some background information.  Hopefully, this will lead to a number of additional videos that explore what can be done in this environment...\n",
        "\n",
        "And if you see me=@mdda online, then please say \"Hi!\"\n",
        "\n",
        "## Software 2.0\n",
        "The approach we are going to use, where we took some human written code and replaced it with an AI component is quite similar to how Tesla approaches self driving cars. See this talk by Andrej Karpathy, Director of AI at Tesla:  \n",
        "[Building the Software 2.0 Stack](https://databricks.com/session/keynote-from-tesla)\n"
      ]
    },
    {
      "cell_type": "markdown",
      "metadata": {
        "id": "ysSTXmT3YUeF"
      },
      "source": [
        "# Setup"
      ]
    },
    {
      "cell_type": "code",
      "execution_count": 1,
      "metadata": {
        "id": "_HTScYNljgXv"
      },
      "outputs": [],
      "source": [
        "%%capture\n",
        "!sudo add-apt-repository -y ppa:openjdk-r/ppa\n",
        "!sudo apt-get purge openjdk-*\n",
        "!sudo apt-get install openjdk-8-jdk\n",
        "!sudo apt-get install xvfb xserver-xephyr vnc4server python-opengl ffmpeg\n",
        "# Takes ~1min to run this\n",
        "# New Add\n",
        "!sudo apt-get install -y xvfb  # Install Xvfb"
      ]
    },
    {
      "cell_type": "code",
      "execution_count": 2,
      "metadata": {
        "id": "xh6gb3UWjT3p"
      },
      "outputs": [],
      "source": [
        "\n",
        "# This takes ~22mins - which would hit us every time we start Colab\n",
        "#   So we'll do it once, and store a '.tar.gz' of the installation into our\n",
        "#   Google Drive, so that we can get it back much quicker the second time!\n",
        "\n",
        "##%%capture\n",
        "##!pip3 install --upgrade minerl # Default is 0.4.4, we want 1.0.0 for VPT\n",
        "##!pip3 uninstall minerl\n",
        "#!pip3 install git+https://github.com/minerllabs/minerl@v1.0.0\n",
        "#\n",
        "#!pip3 install pyvirtualdisplay\n",
        "#!pip3 install -U colabgymrender"
      ]
    },
    {
      "cell_type": "code",
      "execution_count": 3,
      "metadata": {
        "id": "sV7hXcp1vgj6",
        "outputId": "83e0e50f-6d08-46ce-8db5-dc6ec4aa906c",
        "colab": {
          "base_uri": "https://localhost:8080/"
        }
      },
      "outputs": [
        {
          "output_type": "execute_result",
          "data": {
            "text/plain": [
              "('mine_env', '/content/mine_env', 'mine_env.tar.gz')"
            ]
          },
          "metadata": {},
          "execution_count": 3
        }
      ],
      "source": [
        "import os, sys, time\n",
        "\n",
        "mine_env = 'mine_env'\n",
        "mine_env_full = f'/content/{mine_env}'\n",
        "mine_tar = f'{mine_env}.tar.gz'\n",
        "\n",
        "if mine_env_full not in sys.path:\n",
        "  sys.path.insert(0, mine_env_full)\n",
        "  os.environ['PYTHONPATH'] += f':{mine_env_full}'\n",
        "\n",
        "mine_env, mine_env_full, mine_tar"
      ]
    },
    {
      "cell_type": "code",
      "execution_count": 4,
      "metadata": {
        "id": "uvUh7yQ36RjQ",
        "outputId": "3f099130-3dc2-44a9-b995-261c0c3b04ac",
        "colab": {
          "base_uri": "https://localhost:8080/",
          "height": 72
        }
      },
      "outputs": [
        {
          "output_type": "stream",
          "name": "stdout",
          "text": [
            "Mounted at /content/drive\n",
            "-r-------- 1 root root 1504139165 May 22 15:56 ./mine_env.tar.gz\n"
          ]
        },
        {
          "output_type": "execute_result",
          "data": {
            "text/plain": [
              "'DONE'"
            ],
            "application/vnd.google.colaboratory.intrinsic+json": {
              "type": "string"
            }
          },
          "metadata": {},
          "execution_count": 4
        }
      ],
      "source": [
        "# We'll connect to our Google Drive here, and see whether we've already saved off a copy\n",
        "#   This will ask permission to 'connect to your drive' : The answer is 'Yes'!\n",
        "MINE_ENV_IS_NEW = True\n",
        "\n",
        "from google.colab import drive  # google.colab contains functions specifically for interacting with Google Colab's environment.\n",
        "drive.mount('/content/drive')    # mounts your Google Drive as a local file system\n",
        "if os.path.isfile(f'/content/drive/MyDrive/pythonLib/{mine_tar}'): # check if \"mine_env.tar.gz\" is in your Google Drive\n",
        "  ! cp /content/drive/MyDrive/pythonLib/$mine_tar ./$mine_tar  # ! means the command is to be executed in the shell rather than as Python code.\n",
        "                                              # This command copies the file from your Google Drive to the current working directory of the Colab notebook.\n",
        "\n",
        "  ! ls -l ./$mine_tar                         # This lists the file details such as permissions, owner, size, and modification date for the copied file in the current directory.\n",
        "                                              # It helps verify that the file has been copied correctly and shows its properties.\n",
        "  # e.g.: -rw------- 1 root root 1510118446 Jun 26 08:48 ./mine_env.tar.gz\n",
        "\n",
        "  # ! tar -tzf ./$mine_tar | grep minerl | head -5    # list some contents of the compressed tar file without extracting it\n",
        "  ! tar -xzf ./$mine_tar    # This extracts the contents of the tar file into the current directory\n",
        "\n",
        "  MINE_ENV_IS_NEW = False\n",
        "  # Takes 1min too (huge saving!)\n",
        "\n",
        "sys.path.append('/content/drive/MyDrive/pythonLib')\n",
        "sys.path.append('/content/drive/MyDrive/pythonLib/VPT')\n",
        "\n",
        "\"DONE\""
      ]
    },
    {
      "cell_type": "code",
      "execution_count": 5,
      "metadata": {
        "id": "BdFxcyLg2DqL",
        "outputId": "8843dce7-f1b1-40a9-f70b-18468d9e81ce",
        "colab": {
          "base_uri": "https://localhost:8080/"
        }
      },
      "outputs": [
        {
          "output_type": "stream",
          "name": "stdout",
          "text": [
            "Package                          Version\n",
            "-------------------------------- ---------------------\n",
            "absl-py                          1.4.0\n",
            "aiohttp                          3.9.5\n",
            "aiosignal                        1.3.1\n",
            "alabaster                        0.7.16\n",
            "albumentations                   1.3.1\n",
            "altair                           4.2.2\n",
            "annotated-types                  0.6.0\n",
            "anyio                            3.7.1\n",
            "appdirs                          1.4.4\n",
            "argon2-cffi                      23.1.0\n",
            "argon2-cffi-bindings             21.2.0\n",
            "array_record                     0.5.1\n",
            "arviz                            0.15.1\n",
            "astropy                          5.3.4\n",
            "asttokens                        2.4.1\n",
            "astunparse                       1.6.3\n",
            "async-timeout                    4.0.3\n",
            "atpublic                         4.1.0\n",
            "attrs                            23.2.0\n",
            "audioread                        3.0.1\n",
            "autograd                         1.6.2\n",
            "Babel                            2.15.0\n",
            "backcall                         0.2.0\n",
            "beautifulsoup4                   4.12.3\n",
            "bidict                           0.23.1\n",
            "bigframes                        1.6.0\n",
            "bleach                           6.1.0\n",
            "blinker                          1.4\n",
            "blis                             0.7.11\n",
            "blosc2                           2.0.0\n",
            "bokeh                            3.3.4\n",
            "bqplot                           0.12.43\n",
            "branca                           0.7.2\n",
            "build                            1.2.1\n",
            "CacheControl                     0.14.0\n",
            "cachetools                       5.3.3\n",
            "catalogue                        2.0.10\n",
            "certifi                          2024.2.2\n",
            "cffi                             1.16.0\n",
            "chardet                          5.2.0\n",
            "charset-normalizer               3.3.2\n",
            "chex                             0.1.86\n",
            "click                            8.1.7\n",
            "click-plugins                    1.1.1\n",
            "cligj                            0.7.2\n",
            "cloudpathlib                     0.16.0\n",
            "cloudpickle                      3.0.0\n",
            "cmake                            3.27.9\n",
            "cmdstanpy                        1.2.2\n",
            "colabgymrender                   1.1.0\n",
            "colorcet                         3.1.0\n",
            "coloredlogs                      15.0.1\n",
            "colorlover                       0.3.0\n",
            "colour                           0.1.5\n",
            "community                        1.0.0b1\n",
            "confection                       0.1.4\n",
            "cons                             0.4.6\n",
            "contextlib2                      21.6.0\n",
            "contourpy                        1.2.1\n",
            "cryptography                     42.0.7\n",
            "cuda-python                      12.2.1\n",
            "cudf-cu12                        24.4.1\n",
            "cufflinks                        0.17.3\n",
            "cupy-cuda12x                     12.2.0\n",
            "cvxopt                           1.3.2\n",
            "cvxpy                            1.3.4\n",
            "cycler                           0.12.1\n",
            "cymem                            2.0.8\n",
            "Cython                           3.0.10\n",
            "daemoniker                       0.2.3\n",
            "dask                             2023.8.1\n",
            "datascience                      0.17.6\n",
            "db-dtypes                        1.2.0\n",
            "dbus-python                      1.2.18\n",
            "debugpy                          1.6.6\n",
            "decorator                        4.4.2\n",
            "defusedxml                       0.7.1\n",
            "dill                             0.3.8\n",
            "distributed                      2023.8.1\n",
            "distro                           1.7.0\n",
            "dlib                             19.24.4\n",
            "dm-tree                          0.1.8\n",
            "docstring_parser                 0.16\n",
            "docutils                         0.18.1\n",
            "dopamine_rl                      4.0.9\n",
            "duckdb                           0.10.2\n",
            "earthengine-api                  0.1.403\n",
            "easydict                         1.13\n",
            "ecos                             2.0.13\n",
            "editdistance                     0.6.2\n",
            "eerepr                           0.0.4\n",
            "en-core-web-sm                   3.7.1\n",
            "entrypoints                      0.4\n",
            "et-xmlfile                       1.1.0\n",
            "etils                            1.7.0\n",
            "etuples                          0.3.9\n",
            "exceptiongroup                   1.2.1\n",
            "executing                        2.0.1\n",
            "fastai                           2.7.15\n",
            "fastcore                         1.5.37\n",
            "fastdownload                     0.0.7\n",
            "fastjsonschema                   2.19.1\n",
            "fastprogress                     1.0.3\n",
            "fastrlock                        0.8.2\n",
            "filelock                         3.14.0\n",
            "fiona                            1.9.6\n",
            "firebase-admin                   5.3.0\n",
            "flaky                            3.8.1\n",
            "Flask                            2.2.5\n",
            "flatbuffers                      24.3.25\n",
            "flax                             0.8.3\n",
            "folium                           0.14.0\n",
            "fonttools                        4.51.0\n",
            "frozendict                       2.4.4\n",
            "frozenlist                       1.4.1\n",
            "fsspec                           2023.6.0\n",
            "future                           0.18.3\n",
            "gast                             0.5.4\n",
            "gcsfs                            2023.6.0\n",
            "GDAL                             3.6.4\n",
            "gdown                            5.1.0\n",
            "geemap                           0.32.1\n",
            "gensim                           4.3.2\n",
            "geocoder                         1.38.1\n",
            "geographiclib                    2.0\n",
            "geopandas                        0.13.2\n",
            "geopy                            2.3.0\n",
            "getch                            1.0\n",
            "gin-config                       0.5.0\n",
            "glob2                            0.7\n",
            "google                           2.0.3\n",
            "google-ai-generativelanguage     0.6.4\n",
            "google-api-core                  2.11.1\n",
            "google-api-python-client         2.84.0\n",
            "google-auth                      2.27.0\n",
            "google-auth-httplib2             0.1.1\n",
            "google-auth-oauthlib             1.2.0\n",
            "google-cloud-aiplatform          1.51.0\n",
            "google-cloud-bigquery            3.21.0\n",
            "google-cloud-bigquery-connection 1.12.1\n",
            "google-cloud-bigquery-storage    2.25.0\n",
            "google-cloud-core                2.3.3\n",
            "google-cloud-datastore           2.15.2\n",
            "google-cloud-firestore           2.11.1\n",
            "google-cloud-functions           1.13.3\n",
            "google-cloud-iam                 2.15.0\n",
            "google-cloud-language            2.13.3\n",
            "google-cloud-resource-manager    1.12.3\n",
            "google-cloud-storage             2.8.0\n",
            "google-cloud-translate           3.11.3\n",
            "google-colab                     1.0.0\n",
            "google-crc32c                    1.5.0\n",
            "google-generativeai              0.5.4\n",
            "google-pasta                     0.2.0\n",
            "google-resumable-media           2.7.0\n",
            "googleapis-common-protos         1.63.0\n",
            "googledrivedownloader            0.4\n",
            "graphviz                         0.20.3\n",
            "greenlet                         3.0.3\n",
            "grpc-google-iam-v1               0.13.0\n",
            "grpcio                           1.63.0\n",
            "grpcio-status                    1.48.2\n",
            "gspread                          6.0.2\n",
            "gspread-dataframe                3.3.1\n",
            "gym                              0.23.1\n",
            "gym-notices                      0.0.8\n",
            "gym3                             0.3.3\n",
            "h5netcdf                         1.3.0\n",
            "h5py                             3.9.0\n",
            "holidays                         0.48\n",
            "holoviews                        1.17.1\n",
            "html5lib                         1.1\n",
            "httpimport                       1.3.1\n",
            "httplib2                         0.22.0\n",
            "huggingface-hub                  0.23.0\n",
            "humanfriendly                    10.0\n",
            "humanize                         4.7.0\n",
            "hyperopt                         0.2.7\n",
            "ibis-framework                   8.0.0\n",
            "idna                             3.7\n",
            "ImageHash                        4.3.1\n",
            "imageio                          2.34.0\n",
            "imageio-ffmpeg                   0.4.9\n",
            "imagesize                        1.4.1\n",
            "imbalanced-learn                 0.10.1\n",
            "imgaug                           0.4.0\n",
            "importlib_metadata               7.1.0\n",
            "importlib_resources              6.4.0\n",
            "imutils                          0.5.4\n",
            "inflect                          7.0.0\n",
            "inflection                       0.5.1\n",
            "iniconfig                        2.0.0\n",
            "intel-openmp                     2023.2.4\n",
            "ipyevents                        2.0.2\n",
            "ipyfilechooser                   0.6.0\n",
            "ipykernel                        5.5.6\n",
            "ipyleaflet                       0.18.2\n",
            "ipython                          8.23.0\n",
            "ipython-genutils                 0.2.0\n",
            "ipython-sql                      0.5.0\n",
            "ipytree                          0.2.2\n",
            "ipywidgets                       7.7.1\n",
            "itsdangerous                     2.2.0\n",
            "jax                              0.4.26\n",
            "jaxlib                           0.4.26+cuda12.cudnn89\n",
            "jedi                             0.19.1\n",
            "jeepney                          0.7.1\n",
            "jellyfish                        1.0.3\n",
            "jieba                            0.42.1\n",
            "Jinja2                           3.1.3\n",
            "joblib                           1.4.2\n",
            "jsonpickle                       3.0.4\n",
            "jsonschema                       4.19.2\n",
            "jsonschema-specifications        2023.12.1\n",
            "jupyter-client                   6.1.12\n",
            "jupyter-console                  6.1.0\n",
            "jupyter_core                     5.7.2\n",
            "jupyter-server                   1.24.0\n",
            "jupyterlab_pygments              0.3.0\n",
            "jupyterlab_widgets               3.0.10\n",
            "kaggle                           1.6.14\n",
            "kagglehub                        0.2.5\n",
            "keras                            2.15.0\n",
            "keyring                          23.5.0\n",
            "kiwisolver                       1.4.5\n",
            "langcodes                        3.4.0\n",
            "language_data                    1.2.0\n",
            "launchpadlib                     1.10.16\n",
            "lazr.restfulclient               0.14.4\n",
            "lazr.uri                         1.0.6\n",
            "lazy_loader                      0.4\n",
            "libclang                         18.1.1\n",
            "librosa                          0.10.2.post1\n",
            "lightgbm                         4.1.0\n",
            "linkify-it-py                    2.0.3\n",
            "llvmlite                         0.41.1\n",
            "locket                           1.0.0\n",
            "logical-unification              0.4.6\n",
            "lxml                             5.2.1\n",
            "malloy                           2023.1067\n",
            "marisa-trie                      1.1.1\n",
            "Markdown                         3.6\n",
            "markdown-it-py                   3.0.0\n",
            "MarkupSafe                       2.1.5\n",
            "matplotlib                       3.7.1\n",
            "matplotlib-inline                0.1.7\n",
            "matplotlib-venn                  0.11.10\n",
            "mdit-py-plugins                  0.4.1\n",
            "mdurl                            0.1.2\n",
            "minerl                           1.0.0\n",
            "miniKanren                       1.0.3\n",
            "missingno                        0.5.2\n",
            "mistune                          0.8.4\n",
            "mizani                           0.9.3\n",
            "mkl                              2023.2.0\n",
            "ml-dtypes                        0.2.0\n",
            "mlxtend                          0.22.0\n",
            "more-itertools                   10.1.0\n",
            "moviepy                          1.0.3\n",
            "mpmath                           1.3.0\n",
            "msgpack                          1.0.8\n",
            "multidict                        6.0.5\n",
            "multipledispatch                 1.0.0\n",
            "multitasking                     0.0.11\n",
            "murmurhash                       1.0.10\n",
            "music21                          9.1.0\n",
            "natsort                          8.4.0\n",
            "nbclassic                        1.0.0\n",
            "nbclient                         0.10.0\n",
            "nbconvert                        6.5.4\n",
            "nbformat                         5.10.4\n",
            "nest-asyncio                     1.6.0\n",
            "networkx                         3.3\n",
            "nibabel                          4.0.2\n",
            "nltk                             3.8.1\n",
            "notebook                         6.5.5\n",
            "notebook_shim                    0.2.4\n",
            "numba                            0.58.1\n",
            "numexpr                          2.10.0\n",
            "numpy                            1.23.5\n",
            "nvtx                             0.2.10\n",
            "oauth2client                     4.1.3\n",
            "oauthlib                         3.2.2\n",
            "opencv-contrib-python            4.8.0.76\n",
            "opencv-python                    4.9.0.80\n",
            "opencv-python-headless           4.9.0.80\n",
            "openpyxl                         3.1.2\n",
            "opt-einsum                       3.3.0\n",
            "optax                            0.2.2\n",
            "orbax-checkpoint                 0.4.4\n",
            "osqp                             0.6.2.post8\n",
            "packaging                        24.0\n",
            "pandas                           2.0.3\n",
            "pandas-datareader                0.10.0\n",
            "pandas-gbq                       0.19.2\n",
            "pandas-stubs                     2.0.3.230814\n",
            "pandocfilters                    1.5.1\n",
            "panel                            1.3.8\n",
            "param                            2.1.0\n",
            "parso                            0.8.4\n",
            "parsy                            2.1\n",
            "partd                            1.4.2\n",
            "pathlib                          1.0.1\n",
            "patsy                            0.5.6\n",
            "peewee                           3.17.5\n",
            "pexpect                          4.9.0\n",
            "pickleshare                      0.7.5\n",
            "pillow                           10.3.0\n",
            "pip                              23.1.2\n",
            "pip-tools                        6.13.0\n",
            "platformdirs                     4.2.2\n",
            "plotly                           5.15.0\n",
            "plotnine                         0.12.4\n",
            "pluggy                           1.5.0\n",
            "polars                           0.20.2\n",
            "pooch                            1.8.1\n",
            "portpicker                       1.5.2\n",
            "prefetch-generator               1.0.3\n",
            "preshed                          3.0.9\n",
            "prettytable                      3.10.0\n",
            "proglog                          0.1.10\n",
            "progressbar2                     4.2.0\n",
            "prometheus_client                0.20.0\n",
            "promise                          2.3\n",
            "prompt-toolkit                   3.0.43\n",
            "prophet                          1.1.5\n",
            "proto-plus                       1.23.0\n",
            "protobuf                         3.20.3\n",
            "psutil                           5.9.8\n",
            "psycopg2                         2.9.9\n",
            "ptyprocess                       0.7.0\n",
            "pure-eval                        0.2.2\n",
            "py-cpuinfo                       9.0.0\n",
            "py4j                             0.10.9.7\n",
            "pyarrow                          14.0.2\n",
            "pyarrow-hotfix                   0.6\n",
            "pyasn1                           0.6.0\n",
            "pyasn1_modules                   0.4.0\n",
            "pycocotools                      2.0.7\n",
            "pycparser                        2.22\n",
            "pydantic                         2.7.1\n",
            "pydantic_core                    2.18.2\n",
            "pydata-google-auth               1.8.2\n",
            "pydot                            1.4.2\n",
            "pydot-ng                         2.0.0\n",
            "pydotplus                        2.0.2\n",
            "PyDrive                          1.3.1\n",
            "PyDrive2                         1.6.3\n",
            "pyerfa                           2.0.1.4\n",
            "pygame                           2.5.2\n",
            "pyglet                           2.0.15\n",
            "Pygments                         2.17.2\n",
            "PyGObject                        3.42.1\n",
            "PyJWT                            2.3.0\n",
            "pymc                             5.10.4\n",
            "pymystem3                        0.2.0\n",
            "pynvjitlink-cu12                 0.2.3\n",
            "PyOpenGL                         3.1.7\n",
            "pyOpenSSL                        24.1.0\n",
            "pyparsing                        3.1.2\n",
            "pyperclip                        1.8.2\n",
            "pyproj                           3.6.1\n",
            "pyproject_hooks                  1.1.0\n",
            "Pyro4                            4.82\n",
            "pyshp                            2.3.1\n",
            "PySocks                          1.7.1\n",
            "pytensor                         2.18.6\n",
            "pytest                           7.4.4\n",
            "python-apt                       0.0.0\n",
            "python-box                       7.1.1\n",
            "python-dateutil                  2.8.2\n",
            "python-louvain                   0.16\n",
            "python-slugify                   8.0.4\n",
            "python-utils                     3.8.2\n",
            "pytz                             2023.4\n",
            "PyVirtualDisplay                 3.0\n",
            "pyviz_comms                      3.0.2\n",
            "PyWavelets                       1.6.0\n",
            "PyYAML                           6.0.1\n",
            "pyzmq                            24.0.1\n",
            "qdldl                            0.1.7.post2\n",
            "qudida                           0.0.4\n",
            "ratelim                          0.1.6\n",
            "referencing                      0.35.1\n",
            "regex                            2023.12.25\n",
            "requests                         2.31.0\n",
            "requests-oauthlib                1.3.1\n",
            "requirements-parser              0.9.0\n",
            "rich                             13.7.1\n",
            "rmm-cu12                         24.4.0\n",
            "rpds-py                          0.18.1\n",
            "rpy2                             3.4.2\n",
            "rsa                              4.9\n",
            "safetensors                      0.4.3\n",
            "scikit-image                     0.19.3\n",
            "scikit-learn                     1.2.2\n",
            "scipy                            1.13.0\n",
            "scooby                           0.10.0\n",
            "scs                              3.2.4.post1\n",
            "seaborn                          0.13.1\n",
            "SecretStorage                    3.3.1\n",
            "Send2Trash                       1.8.3\n",
            "sentencepiece                    0.1.99\n",
            "serpent                          1.41\n",
            "setuptools                       69.5.1\n",
            "shapely                          2.0.4\n",
            "six                              1.16.0\n",
            "sklearn-pandas                   2.2.0\n",
            "smart-open                       6.4.0\n",
            "sniffio                          1.3.1\n",
            "snowballstemmer                  2.2.0\n",
            "sortedcontainers                 2.4.0\n",
            "soundfile                        0.12.1\n",
            "soupsieve                        2.5\n",
            "soxr                             0.3.7\n",
            "spacy                            3.7.4\n",
            "spacy-legacy                     3.0.12\n",
            "spacy-loggers                    1.0.5\n",
            "Sphinx                           5.0.2\n",
            "sphinxcontrib-applehelp          1.0.8\n",
            "sphinxcontrib-devhelp            1.0.6\n",
            "sphinxcontrib-htmlhelp           2.0.5\n",
            "sphinxcontrib-jsmath             1.0.1\n",
            "sphinxcontrib-qthelp             1.0.7\n",
            "sphinxcontrib-serializinghtml    1.1.10\n",
            "SQLAlchemy                       2.0.30\n",
            "sqlglot                          20.11.0\n",
            "sqlparse                         0.5.0\n",
            "srsly                            2.4.8\n",
            "stack-data                       0.6.3\n",
            "stanio                           0.5.0\n",
            "statsmodels                      0.14.2\n",
            "StrEnum                          0.4.15\n",
            "sympy                            1.12\n",
            "tables                           3.8.0\n",
            "tabulate                         0.9.0\n",
            "tbb                              2021.12.0\n",
            "tblib                            3.0.0\n",
            "tenacity                         8.3.0\n",
            "tensorboard                      2.15.2\n",
            "tensorboard-data-server          0.7.2\n",
            "tensorflow                       2.15.0\n",
            "tensorflow-datasets              4.9.4\n",
            "tensorflow-estimator             2.15.0\n",
            "tensorflow-gcs-config            2.15.0\n",
            "tensorflow-hub                   0.16.1\n",
            "tensorflow-io-gcs-filesystem     0.37.0\n",
            "tensorflow-metadata              1.15.0\n",
            "tensorflow-probability           0.23.0\n",
            "tensorstore                      0.1.45\n",
            "termcolor                        2.4.0\n",
            "terminado                        0.18.1\n",
            "text-unidecode                   1.3\n",
            "textblob                         0.17.1\n",
            "tf_keras                         2.15.1\n",
            "tf-slim                          1.1.0\n",
            "thinc                            8.2.3\n",
            "threadpoolctl                    3.5.0\n",
            "tifffile                         2024.5.10\n",
            "tinycss2                         1.3.0\n",
            "tokenizers                       0.19.1\n",
            "toml                             0.10.2\n",
            "tomli                            2.0.1\n",
            "toolz                            0.12.1\n",
            "torch                            2.3.0+cu121\n",
            "torchaudio                       2.3.0+cu121\n",
            "torchsummary                     1.5.1\n",
            "torchtext                        0.18.0\n",
            "torchvision                      0.18.0+cu121\n",
            "tornado                          6.3.3\n",
            "tqdm                             4.66.2\n",
            "traitlets                        5.14.3\n",
            "traittypes                       0.2.1\n",
            "transformers                     4.41.0\n",
            "triton                           2.3.0\n",
            "tweepy                           4.14.0\n",
            "typer                            0.9.4\n",
            "types-pytz                       2024.1.0.20240417\n",
            "types-setuptools                 69.5.0.20240519\n",
            "typing                           3.7.4.3\n",
            "typing_extensions                4.11.0\n",
            "tzdata                           2024.1\n",
            "tzlocal                          5.2\n",
            "uc-micro-py                      1.0.3\n",
            "uritemplate                      4.1.1\n",
            "urllib3                          2.2.1\n",
            "vega-datasets                    0.9.0\n",
            "wadllib                          1.3.6\n",
            "wasabi                           1.1.2\n",
            "wcwidth                          0.2.13\n",
            "weasel                           0.3.4\n",
            "webcolors                        1.13\n",
            "webencodings                     0.5.1\n",
            "websocket-client                 1.8.0\n",
            "Werkzeug                         3.0.3\n",
            "wheel                            0.43.0\n",
            "widgetsnbextension               3.6.6\n",
            "wordcloud                        1.9.3\n",
            "wrapt                            1.14.1\n",
            "xarray                           2023.7.0\n",
            "xarray-einstats                  0.7.0\n",
            "xgboost                          2.0.3\n",
            "xlrd                             2.0.1\n",
            "xmltodict                        0.12.0\n",
            "xyzservices                      2024.4.0\n",
            "yarl                             1.9.4\n",
            "yellowbrick                      1.5\n",
            "yfinance                         0.2.38\n",
            "zict                             3.0.0\n",
            "zipp                             3.18.2\n"
          ]
        }
      ],
      "source": [
        "# Check default packages (execute if needed)\n",
        "!pip3 list"
      ]
    },
    {
      "cell_type": "code",
      "execution_count": 6,
      "metadata": {
        "id": "n7ZYcRvnvq6y",
        "outputId": "07d991e7-7fbf-4f97-d35b-37aea717bc7f",
        "colab": {
          "base_uri": "https://localhost:8080/",
          "height": 36
        }
      },
      "outputs": [
        {
          "output_type": "execute_result",
          "data": {
            "text/plain": [
              "'DONE, with MINE_ENV_IS_NEW=False'"
            ],
            "application/vnd.google.colaboratory.intrinsic+json": {
              "type": "string"
            }
          },
          "metadata": {},
          "execution_count": 6
        }
      ],
      "source": [
        "# Build the mine_env if necessary\n",
        "try:\n",
        "  from pyvirtualdisplay import Display\n",
        "except :\n",
        "  !pip3 install --target=$mine_env git+https://github.com/minerllabs/minerl@v1.0.2   # 21 mins\n",
        "  # https://stackoverflow.com/questions/55833509/attributeerror-type-object-callable-has-no-attribute-abc-registry\n",
        "  !mv $mine_env/typing.py $mine_env/MEH-typing.py  # Fix for Python3.7 ...\n",
        "\n",
        "  !pip3 install --target=$mine_env pyvirtualdisplay  # 4 secs  #注 Display creates a virtual framebuffer that graphical applications can use to render output as if they were using a real monitor.\n",
        "                                                              #注 This allows you to run applications that require a GUI without having an actual GUI environment installed on the system.\n",
        "  !pip3 install --target=$mine_env --upgrade colabgymrender # 22 secs  #注 colabgymrender provides a workaround by capturing the graphical output of the environment and displaying it within the notebook.\n",
        "\n",
        "  MINE_ENV_IS_NEW = True\n",
        "  # NB: some restart notices in the output ... but there's no need to restart!\n",
        "  #     In any case, please wait for the 'DONE' message to print out\n",
        "f\"DONE, with MINE_ENV_IS_NEW={MINE_ENV_IS_NEW}\""
      ]
    },
    {
      "cell_type": "code",
      "execution_count": 7,
      "metadata": {
        "id": "iNj2G3933yVu",
        "outputId": "8951c862-23f4-4297-e56a-c2f2aa60a708",
        "colab": {
          "base_uri": "https://localhost:8080/"
        }
      },
      "outputs": [
        {
          "output_type": "stream",
          "name": "stdout",
          "text": [
            "130124\tmine_env/IPython/lib/__pycache__\n",
            "423282\tmine_env/IPython/lib\n",
            "4827831\tmine_env/IPython\n",
            "8427\tmine_env/daemoniker-0.2.3.dist-info\n",
            "2081314820\tmine_env\n"
          ]
        }
      ],
      "source": [
        "# check content of mine_env (execute if needed)\n",
        "! du -b mine_env | tail -5  # mine_env = ~ 2,094,031,775 bytes overall (a little bit less)"
      ]
    },
    {
      "cell_type": "code",
      "execution_count": 8,
      "metadata": {
        "id": "KOxO92nU4C8Q",
        "outputId": "a3645b4b-d8ef-404d-f8e0-8301e3d69f4d",
        "colab": {
          "base_uri": "https://localhost:8080/",
          "height": 36
        }
      },
      "outputs": [
        {
          "output_type": "execute_result",
          "data": {
            "text/plain": [
              "'DONE'"
            ],
            "application/vnd.google.colaboratory.intrinsic+json": {
              "type": "string"
            }
          },
          "metadata": {},
          "execution_count": 8
        }
      ],
      "source": [
        "# Build new env.tar.gz file in google drive (execute if needed)\n",
        "if MINE_ENV_IS_NEW: #  or True\n",
        "  # ! ls -l /gdrive/MyDrive/mine*\n",
        "  ! rm -f ./$mine_tar   #注 removes the existing tar.gz archive of the environment, if any, from the current directory.\n",
        "  ! tar -czf ./$mine_tar $mine_env  #注 This command creates a new compressed (gzipped) tar archive of the directory specified by the $mine_env variable (the environment directory).\n",
        "  ! ls -l ./$mine_tar\n",
        "  # Without running the env...\n",
        "  # -rw-r--r-- 1 root root 1505020174 Jun 26 07:26 ./mine_env.tar.gz\n",
        "  # Once the minerl env has been reset once (i.e. java has built...)\n",
        "  # -rw------- 1 root root 1511976116 Jun 26 08:43 ./mine_env.tar.gz\n",
        "  ! tar -tzf ./$mine_tar | head\n",
        "  ! cp ./$mine_tar /content/drive/MyDrive/pythonLib/  #注 This copies the newly created archive to a Google Drive directory.\n",
        "  ! ls -l /content/drive/MyDrive/pythonLib/$mine_tar\n",
        "\"DONE\""
      ]
    },
    {
      "cell_type": "markdown",
      "metadata": {
        "id": "ADmrUKxvYXGa"
      },
      "source": [
        "# Import Libraries"
      ]
    },
    {
      "cell_type": "code",
      "execution_count": 9,
      "metadata": {
        "id": "g8_vZpMFpiD9",
        "outputId": "ba2623f8-a75f-4592-b4b0-b361443d8913",
        "colab": {
          "base_uri": "https://localhost:8080/"
        }
      },
      "outputs": [
        {
          "output_type": "stream",
          "name": "stderr",
          "text": [
            "WARNING:py.warnings:/usr/local/lib/python3.10/dist-packages/skimage/util/dtype.py:27: DeprecationWarning: `np.bool8` is a deprecated alias for `np.bool_`.  (Deprecated NumPy 1.24)\n",
            "  np.bool8: (False, True),\n",
            "\n"
          ]
        }
      ],
      "source": [
        "import os   # For interacting with the operating system.\n",
        "\n",
        "import numpy as np  # For numerical operations.\n",
        "\n",
        "import gym    # To create and manage environments based on the OpenAI Gym toolkit.\n",
        "import minerl\n",
        "\n",
        "from tqdm.notebook import tqdm  # For displaying progress bars in Jupyter notebooks.\n",
        "from colabgymrender.recorder import Recorder # To facilitate rendering of Gym environments in Google Colab.\n",
        "from pyvirtualdisplay import Display # To create a virtual display to render environments in a headless server or environment like Google Colab.\n",
        "\n",
        "import logging\n",
        "logging.disable(logging.ERROR) # reduce clutter, remove if something doesn't work to see the error logs.\n",
        "\n",
        "np.__version__  # '1.21.6' => that this is reading from our ~/mine_env directory\n",
        "# Numpy version may be different from the content above\n",
        "# About warning: since warning is in a local package, so if error occurs, please comment the specific line\n",
        "\n",
        "import cv2\n",
        "#from google.colab.patches import cv2_imshow\n",
        "#from PIL import Image\n",
        "import matplotlib.pylab as plt"
      ]
    },
    {
      "cell_type": "markdown",
      "metadata": {
        "id": "4QwEA7yJ6Ail"
      },
      "source": [
        "# Download Dataset"
      ]
    },
    {
      "cell_type": "code",
      "execution_count": 10,
      "metadata": {
        "id": "J0u4GNgalm8B",
        "outputId": "a5f715df-0ac6-4f1c-9b72-fccd6d479b95",
        "colab": {
          "base_uri": "https://localhost:8080/"
        }
      },
      "outputs": [
        {
          "output_type": "stream",
          "name": "stdout",
          "text": [
            "total: 2 | exist: 0 | downloading: 2\n",
            "[0%] Downloading /content/MineRLBasaltFindCave-v0/cheeky-cornflower-setter-00c9a1c015d6-20220715-100525.mp4\n",
            "[50%] Downloading /content/MineRLBasaltFindCave-v0/cheeky-cornflower-setter-00467564a5cd-20220715-094908.mp4\n"
          ]
        }
      ],
      "source": [
        "from download_dataset import download_file\n",
        "download_file(2) # default is 400, about 40 GB?"
      ]
    },
    {
      "cell_type": "markdown",
      "metadata": {
        "id": "qjkM-WKjCSGx"
      },
      "source": [
        "# Construct Inverse Dynamic Model Agent"
      ]
    },
    {
      "cell_type": "code",
      "execution_count": 11,
      "metadata": {
        "id": "ehehsdr8CaG-"
      },
      "outputs": [],
      "source": [
        "from inverse_dynamics_model import load_IDM_agent\n",
        "IDMAgent = load_IDM_agent()"
      ]
    },
    {
      "cell_type": "code",
      "execution_count": null,
      "metadata": {
        "id": "oh2aHrFCHrMm",
        "outputId": "dd8ca76d-b9a6-4cdf-8749-674dca2986da",
        "colab": {
          "base_uri": "https://localhost:8080/"
        }
      },
      "outputs": [
        {
          "output_type": "stream",
          "name": "stdout",
          "text": [
            "attack: 1 (1), back: 0 (0), forward: 0 (0), jump: 0 (0), left: 0 (0), right: 0 (0), sneak: 0 (0), sprint: 0 (0), use: 0 (0), drop: 0 (0), inventory: 0 (0), hotbar.1: 0 (0), hotbar.2: 0 (0), hotbar.3: 0 (0), hotbar.4: 0 (0), hotbar.5: 0 (0), hotbar.6: 0 (0), hotbar.7: 0 (0), hotbar.8: 0 (0), hotbar.9: 0 (0), camera: [0. 0.] ([0 0]), \n",
            "\n",
            "attack: 1 (1), back: 0 (0), forward: 0 (0), jump: 0 (0), left: 0 (0), right: 0 (0), sneak: 0 (0), sprint: 0 (0), use: 0 (0), drop: 0 (0), inventory: 0 (0), hotbar.1: 0 (0), hotbar.2: 0 (0), hotbar.3: 0 (0), hotbar.4: 0 (0), hotbar.5: 0 (0), hotbar.6: 0 (0), hotbar.7: 0 (0), hotbar.8: 0 (0), hotbar.9: 0 (0), camera: [0. 0.] ([0 0]), \n",
            "\n",
            "attack: 1 (1), back: 0 (0), forward: 0 (0), jump: 0 (0), left: 0 (0), right: 0 (0), sneak: 0 (0), sprint: 0 (0), use: 0 (0), drop: 0 (0), inventory: 0 (0), hotbar.1: 0 (0), hotbar.2: 0 (0), hotbar.3: 0 (0), hotbar.4: 0 (0), hotbar.5: 0 (0), hotbar.6: 0 (0), hotbar.7: 0 (0), hotbar.8: 0 (0), hotbar.9: 0 (0), camera: [0. 0.] ([0 0]), \n",
            "\n",
            "attack: 1 (1), back: 0 (0), forward: 0 (0), jump: 0 (0), left: 0 (0), right: 0 (0), sneak: 0 (0), sprint: 0 (0), use: 0 (0), drop: 0 (0), inventory: 0 (0), hotbar.1: 0 (0), hotbar.2: 0 (0), hotbar.3: 0 (0), hotbar.4: 0 (0), hotbar.5: 0 (0), hotbar.6: 0 (0), hotbar.7: 0 (0), hotbar.8: 0 (0), hotbar.9: 0 (0), camera: [0. 0.] ([0 0]), \n",
            "\n",
            "attack: 1 (1), back: 0 (0), forward: 0 (0), jump: 0 (0), left: 0 (0), right: 0 (0), sneak: 0 (0), sprint: 0 (0), use: 0 (0), drop: 0 (0), inventory: 0 (0), hotbar.1: 0 (0), hotbar.2: 0 (0), hotbar.3: 0 (0), hotbar.4: 0 (0), hotbar.5: 0 (0), hotbar.6: 0 (0), hotbar.7: 0 (0), hotbar.8: 0 (0), hotbar.9: 0 (0), camera: [0. 0.] ([0 0]), \n",
            "\n",
            "attack: 1 (1), back: 0 (0), forward: 0 (0), jump: 0 (0), left: 0 (0), right: 0 (0), sneak: 0 (0), sprint: 0 (0), use: 0 (0), drop: 0 (0), inventory: 0 (0), hotbar.1: 0 (0), hotbar.2: 0 (0), hotbar.3: 0 (0), hotbar.4: 0 (0), hotbar.5: 0 (0), hotbar.6: 0 (0), hotbar.7: 0 (0), hotbar.8: 0 (0), hotbar.9: 0 (0), camera: [0. 0.] ([0 0]), \n",
            "\n",
            "attack: 1 (1), back: 0 (0), forward: 0 (0), jump: 0 (0), left: 0 (0), right: 0 (0), sneak: 0 (0), sprint: 0 (0), use: 0 (0), drop: 0 (0), inventory: 0 (0), hotbar.1: 0 (0), hotbar.2: 0 (0), hotbar.3: 0 (0), hotbar.4: 0 (0), hotbar.5: 0 (0), hotbar.6: 0 (0), hotbar.7: 0 (0), hotbar.8: 0 (0), hotbar.9: 0 (0), camera: [0. 0.] ([0 0]), \n",
            "\n",
            "attack: 1 (1), back: 0 (0), forward: 0 (0), jump: 0 (0), left: 0 (0), right: 0 (0), sneak: 0 (0), sprint: 0 (0), use: 0 (0), drop: 0 (0), inventory: 0 (0), hotbar.1: 0 (0), hotbar.2: 0 (0), hotbar.3: 0 (0), hotbar.4: 0 (0), hotbar.5: 0 (0), hotbar.6: 0 (0), hotbar.7: 0 (0), hotbar.8: 0 (0), hotbar.9: 0 (0), camera: [0. 0.] ([0 0]), \n",
            "\n",
            "attack: 1 (1), back: 0 (0), forward: 0 (0), jump: 0 (0), left: 0 (0), right: 0 (0), sneak: 0 (0), sprint: 0 (0), use: 0 (0), drop: 0 (0), inventory: 0 (0), hotbar.1: 0 (0), hotbar.2: 0 (0), hotbar.3: 0 (0), hotbar.4: 0 (0), hotbar.5: 0 (0), hotbar.6: 0 (0), hotbar.7: 0 (0), hotbar.8: 0 (0), hotbar.9: 0 (0), camera: [0. 0.] ([0 0]), \n",
            "\n",
            "attack: 1 (1), back: 0 (0), forward: 0 (0), jump: 0 (0), left: 0 (0), right: 0 (0), sneak: 0 (0), sprint: 0 (0), use: 0 (0), drop: 0 (0), inventory: 0 (0), hotbar.1: 0 (0), hotbar.2: 0 (0), hotbar.3: 0 (0), hotbar.4: 0 (0), hotbar.5: 0 (0), hotbar.6: 0 (0), hotbar.7: 0 (0), hotbar.8: 0 (0), hotbar.9: 0 (0), camera: [0. 0.] ([0 0]), \n",
            "\n",
            "attack: 1 (1), back: 0 (0), forward: 0 (0), jump: 0 (0), left: 0 (0), right: 0 (0), sneak: 0 (0), sprint: 0 (0), use: 0 (0), drop: 0 (0), inventory: 0 (0), hotbar.1: 0 (0), hotbar.2: 0 (0), hotbar.3: 0 (0), hotbar.4: 0 (0), hotbar.5: 0 (0), hotbar.6: 0 (0), hotbar.7: 0 (0), hotbar.8: 0 (0), hotbar.9: 0 (0), camera: [0. 0.] ([0 0]), \n",
            "\n",
            "attack: 1 (1), back: 0 (0), forward: 0 (0), jump: 0 (0), left: 0 (0), right: 0 (0), sneak: 0 (0), sprint: 0 (0), use: 0 (0), drop: 0 (0), inventory: 0 (0), hotbar.1: 0 (0), hotbar.2: 0 (0), hotbar.3: 0 (0), hotbar.4: 0 (0), hotbar.5: 0 (0), hotbar.6: 0 (0), hotbar.7: 0 (0), hotbar.8: 0 (0), hotbar.9: 0 (0), camera: [0. 0.] ([0 0]), \n",
            "\n",
            "attack: 1 (1), back: 0 (0), forward: 0 (0), jump: 0 (0), left: 0 (0), right: 0 (0), sneak: 0 (0), sprint: 0 (0), use: 0 (0), drop: 0 (0), inventory: 0 (0), hotbar.1: 0 (0), hotbar.2: 0 (0), hotbar.3: 0 (0), hotbar.4: 0 (0), hotbar.5: 0 (0), hotbar.6: 0 (0), hotbar.7: 0 (0), hotbar.8: 0 (0), hotbar.9: 0 (0), camera: [0. 0.] ([0 0]), \n",
            "\n",
            "attack: 1 (1), back: 0 (0), forward: 0 (0), jump: 0 (0), left: 0 (0), right: 0 (0), sneak: 0 (0), sprint: 0 (0), use: 0 (0), drop: 0 (0), inventory: 0 (0), hotbar.1: 0 (0), hotbar.2: 0 (0), hotbar.3: 0 (0), hotbar.4: 0 (0), hotbar.5: 0 (0), hotbar.6: 0 (0), hotbar.7: 0 (0), hotbar.8: 0 (0), hotbar.9: 0 (0), camera: [0. 0.] ([0 0]), \n",
            "\n",
            "attack: 1 (1), back: 0 (0), forward: 0 (0), jump: 0 (0), left: 0 (0), right: 0 (0), sneak: 0 (0), sprint: 0 (0), use: 0 (0), drop: 0 (0), inventory: 0 (0), hotbar.1: 0 (0), hotbar.2: 0 (0), hotbar.3: 0 (0), hotbar.4: 0 (0), hotbar.5: 0 (0), hotbar.6: 0 (0), hotbar.7: 0 (0), hotbar.8: 0 (0), hotbar.9: 0 (0), camera: [0. 0.] ([0 0]), \n",
            "\n",
            "attack: 1 (1), back: 0 (0), forward: 0 (0), jump: 0 (0), left: 0 (0), right: 0 (0), sneak: 0 (0), sprint: 0 (0), use: 0 (0), drop: 0 (0), inventory: 0 (0), hotbar.1: 0 (0), hotbar.2: 0 (0), hotbar.3: 0 (0), hotbar.4: 0 (0), hotbar.5: 0 (0), hotbar.6: 0 (0), hotbar.7: 0 (0), hotbar.8: 0 (0), hotbar.9: 0 (0), camera: [0. 0.] ([0 0]), \n",
            "\n",
            "attack: 1 (1), back: 0 (0), forward: 0 (0), jump: 0 (0), left: 0 (0), right: 0 (0), sneak: 0 (0), sprint: 0 (0), use: 0 (0), drop: 0 (0), inventory: 0 (0), hotbar.1: 0 (0), hotbar.2: 0 (0), hotbar.3: 0 (0), hotbar.4: 0 (0), hotbar.5: 0 (0), hotbar.6: 0 (0), hotbar.7: 0 (0), hotbar.8: 0 (0), hotbar.9: 0 (0), camera: [0. 0.] ([0 0]), \n",
            "\n",
            "attack: 1 (1), back: 0 (0), forward: 0 (0), jump: 0 (0), left: 0 (0), right: 0 (0), sneak: 0 (0), sprint: 0 (0), use: 0 (0), drop: 0 (0), inventory: 0 (0), hotbar.1: 0 (0), hotbar.2: 0 (0), hotbar.3: 0 (0), hotbar.4: 0 (0), hotbar.5: 0 (0), hotbar.6: 0 (0), hotbar.7: 0 (0), hotbar.8: 0 (0), hotbar.9: 0 (0), camera: [0. 0.] ([0 0]), \n",
            "\n",
            "attack: 1 (1), back: 0 (0), forward: 0 (0), jump: 0 (0), left: 0 (0), right: 0 (0), sneak: 0 (0), sprint: 0 (0), use: 0 (0), drop: 0 (0), inventory: 0 (0), hotbar.1: 0 (0), hotbar.2: 0 (0), hotbar.3: 0 (0), hotbar.4: 0 (0), hotbar.5: 0 (0), hotbar.6: 0 (0), hotbar.7: 0 (0), hotbar.8: 0 (0), hotbar.9: 0 (0), camera: [0. 0.] ([0 0]), \n",
            "\n",
            "attack: 1 (1), back: 0 (0), forward: 0 (0), jump: 0 (0), left: 0 (0), right: 0 (0), sneak: 0 (0), sprint: 0 (0), use: 0 (0), drop: 0 (0), inventory: 0 (0), hotbar.1: 0 (0), hotbar.2: 0 (0), hotbar.3: 0 (0), hotbar.4: 0 (0), hotbar.5: 0 (0), hotbar.6: 0 (0), hotbar.7: 0 (0), hotbar.8: 0 (0), hotbar.9: 0 (0), camera: [0. 0.] ([0 0]), \n",
            "\n",
            "attack: 1 (1), back: 0 (0), forward: 0 (0), jump: 0 (0), left: 0 (0), right: 0 (0), sneak: 0 (0), sprint: 0 (0), use: 0 (0), drop: 0 (0), inventory: 0 (0), hotbar.1: 0 (0), hotbar.2: 0 (0), hotbar.3: 0 (0), hotbar.4: 0 (0), hotbar.5: 0 (0), hotbar.6: 0 (0), hotbar.7: 0 (0), hotbar.8: 0 (0), hotbar.9: 0 (0), camera: [0. 0.] ([0 0]), \n",
            "\n",
            "attack: 1 (1), back: 0 (0), forward: 0 (0), jump: 0 (0), left: 0 (0), right: 0 (0), sneak: 0 (0), sprint: 0 (0), use: 0 (0), drop: 0 (0), inventory: 0 (0), hotbar.1: 0 (0), hotbar.2: 0 (0), hotbar.3: 0 (0), hotbar.4: 0 (0), hotbar.5: 0 (0), hotbar.6: 0 (0), hotbar.7: 0 (0), hotbar.8: 0 (0), hotbar.9: 0 (0), camera: [0. 0.] ([0 0]), \n",
            "\n",
            "attack: 1 (1), back: 0 (0), forward: 0 (0), jump: 0 (0), left: 0 (0), right: 0 (0), sneak: 0 (0), sprint: 0 (0), use: 0 (0), drop: 0 (0), inventory: 0 (0), hotbar.1: 0 (0), hotbar.2: 0 (0), hotbar.3: 0 (0), hotbar.4: 0 (0), hotbar.5: 0 (0), hotbar.6: 0 (0), hotbar.7: 0 (0), hotbar.8: 0 (0), hotbar.9: 0 (0), camera: [0. 0.] ([0 0]), \n",
            "\n",
            "attack: 1 (1), back: 0 (0), forward: 0 (0), jump: 0 (0), left: 0 (0), right: 0 (0), sneak: 0 (0), sprint: 0 (0), use: 0 (0), drop: 0 (0), inventory: 0 (0), hotbar.1: 0 (0), hotbar.2: 0 (0), hotbar.3: 0 (0), hotbar.4: 0 (0), hotbar.5: 0 (0), hotbar.6: 0 (0), hotbar.7: 0 (0), hotbar.8: 0 (0), hotbar.9: 0 (0), camera: [0. 0.] ([0 0]), \n",
            "\n",
            "attack: 1 (1), back: 0 (0), forward: 0 (0), jump: 0 (0), left: 0 (0), right: 0 (0), sneak: 0 (0), sprint: 0 (0), use: 0 (0), drop: 0 (0), inventory: 0 (0), hotbar.1: 0 (0), hotbar.2: 0 (0), hotbar.3: 0 (0), hotbar.4: 0 (0), hotbar.5: 0 (0), hotbar.6: 0 (0), hotbar.7: 0 (0), hotbar.8: 0 (0), hotbar.9: 0 (0), camera: [0. 0.] ([0 0]), \n",
            "\n",
            "attack: 1 (1), back: 0 (0), forward: 0 (0), jump: 0 (0), left: 0 (0), right: 0 (0), sneak: 0 (0), sprint: 0 (0), use: 0 (0), drop: 0 (0), inventory: 0 (0), hotbar.1: 0 (0), hotbar.2: 0 (0), hotbar.3: 0 (0), hotbar.4: 0 (0), hotbar.5: 0 (0), hotbar.6: 0 (0), hotbar.7: 0 (0), hotbar.8: 0 (0), hotbar.9: 0 (0), camera: [0. 0.] ([0 0]), \n",
            "\n",
            "attack: 1 (1), back: 0 (0), forward: 0 (0), jump: 0 (0), left: 0 (0), right: 0 (0), sneak: 0 (0), sprint: 0 (0), use: 0 (0), drop: 0 (0), inventory: 0 (0), hotbar.1: 0 (0), hotbar.2: 0 (0), hotbar.3: 0 (0), hotbar.4: 0 (0), hotbar.5: 0 (0), hotbar.6: 0 (0), hotbar.7: 0 (0), hotbar.8: 0 (0), hotbar.9: 0 (0), camera: [0. 0.] ([0 0]), \n",
            "\n",
            "attack: 1 (1), back: 0 (0), forward: 0 (0), jump: 0 (0), left: 0 (0), right: 0 (0), sneak: 0 (0), sprint: 0 (0), use: 0 (0), drop: 0 (0), inventory: 0 (0), hotbar.1: 0 (0), hotbar.2: 0 (0), hotbar.3: 0 (0), hotbar.4: 0 (0), hotbar.5: 0 (0), hotbar.6: 0 (0), hotbar.7: 0 (0), hotbar.8: 0 (0), hotbar.9: 0 (0), camera: [0. 0.] ([0 0]), \n",
            "\n",
            "attack: 1 (1), back: 0 (0), forward: 0 (0), jump: 0 (0), left: 0 (0), right: 0 (0), sneak: 0 (0), sprint: 0 (0), use: 0 (0), drop: 0 (0), inventory: 0 (0), hotbar.1: 0 (0), hotbar.2: 0 (0), hotbar.3: 0 (0), hotbar.4: 0 (0), hotbar.5: 0 (0), hotbar.6: 0 (0), hotbar.7: 0 (0), hotbar.8: 0 (0), hotbar.9: 0 (0), camera: [0. 0.] ([0 0]), \n",
            "\n",
            "attack: 1 (1), back: 0 (0), forward: 0 (0), jump: 0 (0), left: 0 (0), right: 0 (0), sneak: 0 (0), sprint: 0 (0), use: 0 (0), drop: 0 (0), inventory: 0 (0), hotbar.1: 0 (0), hotbar.2: 0 (0), hotbar.3: 0 (0), hotbar.4: 0 (0), hotbar.5: 0 (0), hotbar.6: 0 (0), hotbar.7: 0 (0), hotbar.8: 0 (0), hotbar.9: 0 (0), camera: [0. 0.] ([0 0]), \n",
            "\n",
            "attack: 1 (1), back: 0 (0), forward: 0 (0), jump: 0 (0), left: 0 (0), right: 0 (0), sneak: 0 (0), sprint: 0 (0), use: 0 (0), drop: 0 (0), inventory: 0 (0), hotbar.1: 0 (0), hotbar.2: 0 (0), hotbar.3: 0 (0), hotbar.4: 0 (0), hotbar.5: 0 (0), hotbar.6: 0 (0), hotbar.7: 0 (0), hotbar.8: 0 (0), hotbar.9: 0 (0), camera: [0. 0.] ([0 0]), \n",
            "\n",
            "attack: 1 (1), back: 0 (0), forward: 0 (0), jump: 0 (0), left: 0 (0), right: 0 (0), sneak: 0 (0), sprint: 0 (0), use: 0 (0), drop: 0 (0), inventory: 0 (0), hotbar.1: 0 (0), hotbar.2: 0 (0), hotbar.3: 0 (0), hotbar.4: 0 (0), hotbar.5: 0 (0), hotbar.6: 0 (0), hotbar.7: 0 (0), hotbar.8: 0 (0), hotbar.9: 0 (0), camera: [0. 0.] ([0 0]), \n",
            "\n",
            "attack: 1 (1), back: 0 (0), forward: 0 (0), jump: 0 (0), left: 0 (0), right: 0 (0), sneak: 0 (0), sprint: 0 (0), use: 0 (0), drop: 0 (0), inventory: 0 (0), hotbar.1: 0 (0), hotbar.2: 0 (0), hotbar.3: 0 (0), hotbar.4: 0 (0), hotbar.5: 0 (0), hotbar.6: 0 (0), hotbar.7: 0 (0), hotbar.8: 0 (0), hotbar.9: 0 (0), camera: [0. 0.] ([0 0]), \n",
            "\n",
            "attack: 1 (1), back: 0 (0), forward: 0 (0), jump: 0 (0), left: 0 (0), right: 0 (0), sneak: 0 (0), sprint: 0 (0), use: 0 (0), drop: 0 (0), inventory: 0 (0), hotbar.1: 0 (0), hotbar.2: 0 (0), hotbar.3: 0 (0), hotbar.4: 0 (0), hotbar.5: 0 (0), hotbar.6: 0 (0), hotbar.7: 0 (0), hotbar.8: 0 (0), hotbar.9: 0 (0), camera: [0. 0.] ([0 0]), \n",
            "\n",
            "attack: 1 (1), back: 0 (0), forward: 0 (0), jump: 0 (0), left: 0 (0), right: 0 (0), sneak: 0 (0), sprint: 0 (0), use: 0 (0), drop: 0 (0), inventory: 0 (0), hotbar.1: 0 (0), hotbar.2: 0 (0), hotbar.3: 0 (0), hotbar.4: 0 (0), hotbar.5: 0 (0), hotbar.6: 0 (0), hotbar.7: 0 (0), hotbar.8: 0 (0), hotbar.9: 0 (0), camera: [0. 0.] ([0 0]), \n",
            "\n",
            "attack: 1 (1), back: 0 (0), forward: 0 (0), jump: 0 (0), left: 0 (0), right: 0 (0), sneak: 0 (0), sprint: 0 (0), use: 0 (0), drop: 0 (0), inventory: 0 (0), hotbar.1: 0 (0), hotbar.2: 0 (0), hotbar.3: 0 (0), hotbar.4: 0 (0), hotbar.5: 0 (0), hotbar.6: 0 (0), hotbar.7: 0 (0), hotbar.8: 0 (0), hotbar.9: 0 (0), camera: [0. 0.] ([0 0]), \n",
            "\n",
            "attack: 1 (1), back: 0 (0), forward: 0 (0), jump: 0 (0), left: 0 (0), right: 0 (0), sneak: 0 (0), sprint: 0 (0), use: 0 (0), drop: 0 (0), inventory: 0 (0), hotbar.1: 0 (0), hotbar.2: 0 (0), hotbar.3: 0 (0), hotbar.4: 0 (0), hotbar.5: 0 (0), hotbar.6: 0 (0), hotbar.7: 0 (0), hotbar.8: 0 (0), hotbar.9: 0 (0), camera: [0. 0.] ([0 0]), \n",
            "\n",
            "attack: 1 (1), back: 0 (0), forward: 0 (0), jump: 0 (0), left: 0 (0), right: 0 (0), sneak: 0 (0), sprint: 0 (0), use: 0 (0), drop: 0 (0), inventory: 0 (0), hotbar.1: 0 (0), hotbar.2: 0 (0), hotbar.3: 0 (0), hotbar.4: 0 (0), hotbar.5: 0 (0), hotbar.6: 0 (0), hotbar.7: 0 (0), hotbar.8: 0 (0), hotbar.9: 0 (0), camera: [0. 0.] ([0 0]), \n",
            "\n",
            "attack: 1 (1), back: 0 (0), forward: 0 (0), jump: 0 (0), left: 0 (0), right: 0 (0), sneak: 0 (0), sprint: 0 (0), use: 0 (0), drop: 0 (0), inventory: 0 (0), hotbar.1: 0 (0), hotbar.2: 0 (0), hotbar.3: 0 (0), hotbar.4: 0 (0), hotbar.5: 0 (0), hotbar.6: 0 (0), hotbar.7: 0 (0), hotbar.8: 0 (0), hotbar.9: 0 (0), camera: [0. 0.] ([0 0]), \n",
            "\n",
            "attack: 1 (1), back: 0 (0), forward: 0 (0), jump: 0 (0), left: 0 (0), right: 0 (0), sneak: 0 (0), sprint: 0 (0), use: 0 (0), drop: 0 (0), inventory: 0 (0), hotbar.1: 0 (0), hotbar.2: 0 (0), hotbar.3: 0 (0), hotbar.4: 0 (0), hotbar.5: 0 (0), hotbar.6: 0 (0), hotbar.7: 0 (0), hotbar.8: 0 (0), hotbar.9: 0 (0), camera: [0. 0.] ([0 0]), \n",
            "\n",
            "attack: 1 (1), back: 0 (0), forward: 0 (0), jump: 0 (0), left: 0 (0), right: 0 (0), sneak: 0 (0), sprint: 0 (0), use: 0 (0), drop: 0 (0), inventory: 0 (0), hotbar.1: 0 (0), hotbar.2: 0 (0), hotbar.3: 0 (0), hotbar.4: 0 (0), hotbar.5: 0 (0), hotbar.6: 0 (0), hotbar.7: 0 (0), hotbar.8: 0 (0), hotbar.9: 0 (0), camera: [0. 0.] ([0 0]), \n",
            "\n",
            "attack: 1 (1), back: 0 (0), forward: 0 (0), jump: 0 (0), left: 0 (0), right: 0 (0), sneak: 0 (0), sprint: 0 (0), use: 0 (0), drop: 0 (0), inventory: 0 (0), hotbar.1: 0 (0), hotbar.2: 0 (0), hotbar.3: 0 (0), hotbar.4: 0 (0), hotbar.5: 0 (0), hotbar.6: 0 (0), hotbar.7: 0 (0), hotbar.8: 0 (0), hotbar.9: 0 (0), camera: [0. 0.] ([0 0]), \n",
            "\n",
            "attack: 1 (1), back: 0 (0), forward: 0 (0), jump: 0 (0), left: 0 (0), right: 0 (0), sneak: 0 (0), sprint: 0 (0), use: 0 (0), drop: 0 (0), inventory: 0 (0), hotbar.1: 0 (0), hotbar.2: 0 (0), hotbar.3: 0 (0), hotbar.4: 0 (0), hotbar.5: 0 (0), hotbar.6: 0 (0), hotbar.7: 0 (0), hotbar.8: 0 (0), hotbar.9: 0 (0), camera: [0. 0.] ([0 0]), \n",
            "\n",
            "attack: 1 (1), back: 0 (0), forward: 0 (0), jump: 0 (0), left: 0 (0), right: 0 (0), sneak: 0 (0), sprint: 0 (0), use: 0 (0), drop: 0 (0), inventory: 0 (0), hotbar.1: 0 (0), hotbar.2: 0 (0), hotbar.3: 0 (0), hotbar.4: 0 (0), hotbar.5: 0 (0), hotbar.6: 0 (0), hotbar.7: 0 (0), hotbar.8: 0 (0), hotbar.9: 0 (0), camera: [0. 0.] ([0 0]), \n",
            "\n",
            "attack: 1 (1), back: 0 (0), forward: 0 (0), jump: 0 (0), left: 0 (0), right: 0 (0), sneak: 0 (0), sprint: 0 (0), use: 0 (0), drop: 0 (0), inventory: 0 (0), hotbar.1: 0 (0), hotbar.2: 0 (0), hotbar.3: 0 (0), hotbar.4: 0 (0), hotbar.5: 0 (0), hotbar.6: 0 (0), hotbar.7: 0 (0), hotbar.8: 0 (0), hotbar.9: 0 (0), camera: [0. 0.] ([0 0]), \n",
            "\n",
            "attack: 1 (1), back: 0 (0), forward: 0 (0), jump: 0 (0), left: 0 (0), right: 0 (0), sneak: 0 (0), sprint: 0 (0), use: 0 (0), drop: 0 (0), inventory: 0 (0), hotbar.1: 0 (0), hotbar.2: 0 (0), hotbar.3: 0 (0), hotbar.4: 0 (0), hotbar.5: 0 (0), hotbar.6: 0 (0), hotbar.7: 0 (0), hotbar.8: 0 (0), hotbar.9: 0 (0), camera: [0. 0.] ([0 0]), \n",
            "\n",
            "attack: 1 (1), back: 0 (0), forward: 0 (0), jump: 0 (0), left: 0 (0), right: 0 (0), sneak: 0 (0), sprint: 0 (0), use: 0 (0), drop: 0 (0), inventory: 0 (0), hotbar.1: 0 (0), hotbar.2: 0 (0), hotbar.3: 0 (0), hotbar.4: 0 (0), hotbar.5: 0 (0), hotbar.6: 0 (0), hotbar.7: 0 (0), hotbar.8: 0 (0), hotbar.9: 0 (0), camera: [0. 0.] ([0 0]), \n",
            "\n",
            "attack: 1 (1), back: 0 (0), forward: 0 (0), jump: 0 (0), left: 0 (0), right: 0 (0), sneak: 0 (0), sprint: 0 (0), use: 0 (0), drop: 0 (0), inventory: 0 (0), hotbar.1: 0 (0), hotbar.2: 0 (0), hotbar.3: 0 (0), hotbar.4: 0 (0), hotbar.5: 0 (0), hotbar.6: 0 (0), hotbar.7: 0 (0), hotbar.8: 0 (0), hotbar.9: 0 (0), camera: [0. 0.] ([0 0]), \n",
            "\n",
            "attack: 1 (1), back: 0 (0), forward: 0 (0), jump: 0 (0), left: 0 (0), right: 0 (0), sneak: 0 (0), sprint: 0 (0), use: 0 (0), drop: 0 (0), inventory: 0 (0), hotbar.1: 0 (0), hotbar.2: 0 (0), hotbar.3: 0 (0), hotbar.4: 0 (0), hotbar.5: 0 (0), hotbar.6: 0 (0), hotbar.7: 0 (0), hotbar.8: 0 (0), hotbar.9: 0 (0), camera: [0. 0.] ([0 0]), \n",
            "\n",
            "attack: 1 (1), back: 0 (0), forward: 0 (0), jump: 0 (0), left: 0 (0), right: 0 (0), sneak: 0 (0), sprint: 0 (0), use: 0 (0), drop: 0 (0), inventory: 0 (0), hotbar.1: 0 (0), hotbar.2: 0 (0), hotbar.3: 0 (0), hotbar.4: 0 (0), hotbar.5: 0 (0), hotbar.6: 0 (0), hotbar.7: 0 (0), hotbar.8: 0 (0), hotbar.9: 0 (0), camera: [0. 0.] ([0 0]), \n",
            "\n"
          ]
        }
      ],
      "source": [
        "# Test for IDMAgent\n",
        "import json\n",
        "import glob\n",
        "from run_inverse_dynamics_model import json_action_to_env_action\n",
        "from agent import ENV_KWARGS # need to modify\n",
        "required_resolution = ENV_KWARGS[\"resolution\"]\n",
        "files = glob.glob(\"/content/MineRLBasaltFindCave-v0/*.mp4\")\n",
        "video_path = files[0]\n",
        "json_path = video_path.replace(\".mp4\", \".jsonl\")\n",
        "\n",
        "cap = cv2.VideoCapture(video_path)\n",
        "frames = []\n",
        "\n",
        "json_index = 0\n",
        "with open(json_path) as json_file:\n",
        "  json_lines = json_file.readlines()\n",
        "  json_data = \"[\" + \",\".join(json_lines) + \"]\"\n",
        "  json_data = json.loads(json_data)\n",
        "\n",
        "for _ in range(5000):\n",
        "  ret, frame = cap.read()\n",
        "  if not ret:\n",
        "    break\n",
        "  assert frame.shape[0] == required_resolution[1] and frame.shape[1] == required_resolution[0], \"Video must be of resolution {}\".format(required_resolution)\n",
        "  # BGR -> RGB\n",
        "  frames.append(frame[..., ::-1])\n",
        "  if len(frames) == 100 or len(frames) == 50:\n",
        "    l = len(frames)\n",
        "    fs = np.stack(frames)\n",
        "    predicted_actions = IDMAgent.predict_actions(fs)\n",
        "    for i in range(50):\n",
        "      env_action, _ = json_action_to_env_action(json_data[json_index])\n",
        "      json_index += 1\n",
        "      for y, (action_name, action_array) in enumerate(predicted_actions.items()):\n",
        "        print(f\"{action_name}: {action_array[0, (l - 50 + i)]} ({env_action[action_name]}), \", end = \"\")\n",
        "      print(\"\\n\")\n",
        "    frames = frames[50:99]\n",
        "\n",
        "predicted_actions = IDMAgent.predict_actions(fs)\n",
        "l = len(frames)\n",
        "for i in range(50, l):\n",
        "  env_action, _ = json_action_to_env_action(json_data[json_index])\n",
        "  json_index += 1\n",
        "  for y, (action_name, action_array) in enumerate(predicted_actions.items()):\n",
        "    print(f\"{action_name}: {action_array[0, (l - 50 + i)]} ({env_action[action_name]}), \", end = \"\")\n",
        "  print(\"\\n\")"
      ]
    },
    {
      "cell_type": "code",
      "execution_count": null,
      "metadata": {
        "id": "UmalpPQeHy0X"
      },
      "outputs": [],
      "source": [
        "disp = Display(visible=0, backend=\"xvfb\")\n",
        "disp.start();"
      ]
    },
    {
      "cell_type": "code",
      "execution_count": null,
      "metadata": {
        "id": "NXMu7Ek5x6nl"
      },
      "outputs": [],
      "source": [
        "env = gym.make(\"MineRLBasaltFindCave-v0\")"
      ]
    },
    {
      "cell_type": "code",
      "execution_count": null,
      "metadata": {
        "id": "h7BT_7Ss9HBl"
      },
      "outputs": [],
      "source": [
        "env.action_space.sample().keys()"
      ]
    },
    {
      "cell_type": "code",
      "execution_count": null,
      "metadata": {
        "id": "b6HkWKSIJgL1"
      },
      "outputs": [],
      "source": [
        "# Have a look at a few actions we might do:\n",
        "for _ in range(10):\n",
        "  print( env.action_space.sample() )"
      ]
    },
    {
      "cell_type": "code",
      "execution_count": null,
      "metadata": {
        "id": "qs9o7KW-tUcq"
      },
      "outputs": [],
      "source": [
        "t0=time.time()\n",
        "obs = env.reset()  # First obs is thrown away...\n",
        "print(f\"{(time.time()-t0):.2f}sec for env.reset\")\n",
        "# 275.65sec = 4mins for first time, 80.73sec second time (due to compilation of java files?)"
      ]
    },
    {
      "cell_type": "code",
      "execution_count": null,
      "metadata": {
        "id": "n3FGwWZ489mT"
      },
      "outputs": [],
      "source": [
        "# Now that Steve has been spawned, do some actions...\n",
        "t0=time.time()\n",
        "\n",
        "done, iter = False, 0\n",
        "while not done:\n",
        "    ac = env.action_space.noop()\n",
        "    # Spin around to see what is around us\n",
        "    ac[\"camera\"] = [0, +30]  # (pitch, yaw) deltas in degrees : +30 => turn to right\n",
        "\n",
        "    t1=time.time()\n",
        "    obs, reward, done, info = env.step(ac)\n",
        "    #print(obs, reward, info)  # NB: Yikes : obs is only the image!\n",
        "    #  obs = Dict(pov:Box(low=0, high=255, shape=(360, 640, 3)))\n",
        "    #print(pov.shape) # (360, 640, 3)  Image spec agrees with docs!\n",
        "    print(f\"{(time.time()-t1):.2f}sec for env.step\")  # Approx 0.25sec per step\n",
        "\n",
        "    pov = obs[\"pov\"]\n",
        "\n",
        "    #env.render()  # This does an internal cv2.imshow that colab rejects\n",
        "    #cv2_imshow(pov[:, :, ::-1])\n",
        "    #cv2.waitKey(1)\n",
        "\n",
        "    plt.imshow(pov)\n",
        "    plt.show()\n",
        "    iter +=1\n",
        "    if iter>22: done=True\n",
        "\n",
        "f\"{(time.time()-t0):.2f}sec for whole spin\""
      ]
    },
    {
      "cell_type": "code",
      "execution_count": null,
      "metadata": {
        "id": "ytLkHyBow1Ct"
      },
      "outputs": [],
      "source": [
        "# Set up a simple testing function\n",
        "def action_step(action):\n",
        "  ac = env.action_space.noop()\n",
        "  ac.update(action)\n",
        "  obs, reward, done, info = env.step(ac)\n",
        "  plt.imshow(obs[\"pov\"])\n",
        "  plt.show()"
      ]
    },
    {
      "cell_type": "code",
      "execution_count": null,
      "metadata": {
        "id": "p9hUkcZhuObe"
      },
      "outputs": [],
      "source": [
        "action_step({})\n",
        "action_step(dict(inventory=[1]))\n",
        "action_step(dict(camera=[0, +30]))\n",
        "action_step(dict(camera=[-10, -30]))\n",
        "action_step(dict(camera=[+10, 0]))\n",
        "action_step(dict(inventory=[1]))  # Put inventory away? = Yes, if it is showing"
      ]
    },
    {
      "cell_type": "code",
      "execution_count": null,
      "metadata": {
        "id": "taCclVGyuSuZ"
      },
      "outputs": [],
      "source": [
        "#action_step({'inventory':[1]})  # Put inventory away? = NOT jump, sneak, use, hotbar.X, back\n",
        "action_step({})  # NOOP"
      ]
    },
    {
      "cell_type": "code",
      "execution_count": null,
      "metadata": {
        "id": "ssp9BtYZ3u4g"
      },
      "outputs": [],
      "source": [
        "# Set up a simple calibration function\n",
        "import cv2\n",
        "from google.colab.patches import cv2_imshow\n",
        "\n",
        "def action_step_calibrate(x_off,y_off):\n",
        "  ac = env.action_space.noop()\n",
        "  ac.update(dict(camera=[y_off, x_off]))\n",
        "  obs, reward, done, info = env.step(ac)\n",
        "  im = obs[\"pov\"][100:250, 200:400,:]\n",
        "  cv2_imshow(cv2.cvtColor(im, cv2.COLOR_RGB2BGR))\n",
        "  ac = env.action_space.noop()\n",
        "  ac.update(dict(camera=[-y_off, -x_off]))  # Move back\n",
        "  obs, reward, done, info = env.step(ac)"
      ]
    },
    {
      "cell_type": "code",
      "execution_count": null,
      "metadata": {
        "id": "ung8m4tp3ueX"
      },
      "outputs": [],
      "source": [
        "action_step({})\n",
        "action_step(dict(inventory=[1]))\n",
        "\n",
        "action_step_calibrate(0, 0)\n",
        "for x_off in [+0.62, +1.61, +3.22, +5.81, +10.0]:\n",
        "  print(f\"x_off={x_off}\")\n",
        "  action_step_calibrate(x_off,0)\n",
        "  action_step_calibrate(-x_off,0)\n",
        "for y_off in [+0.62, +1.61, +3.22, +5.81, +10.0]:\n",
        "  print(f\"y_off={y_off}\")\n",
        "  action_step_calibrate(0, y_off)\n",
        "  action_step_calibrate(0, -y_off)\n",
        "\n",
        "action_step(dict(inventory=[1]))  # Put inventory away? = Yes, if it is showing"
      ]
    },
    {
      "cell_type": "code",
      "execution_count": null,
      "metadata": {
        "id": "t6Hu5elxuluu"
      },
      "outputs": [],
      "source": [
        "! nvidia-smi"
      ]
    },
    {
      "cell_type": "code",
      "execution_count": null,
      "metadata": {
        "id": "pvxBJAcA73fv"
      },
      "outputs": [],
      "source": [
        "env.close()"
      ]
    },
    {
      "cell_type": "code",
      "execution_count": null,
      "metadata": {
        "id": "ERSdDSW61fnw"
      },
      "outputs": [],
      "source": [
        "disp.stop();"
      ]
    },
    {
      "cell_type": "code",
      "execution_count": null,
      "metadata": {
        "id": "LO__56dWX3en"
      },
      "outputs": [],
      "source": [
        "# THE END! - We'll be using this set-up in the future!"
      ]
    },
    {
      "cell_type": "code",
      "source": [],
      "metadata": {
        "id": "yrudROtlAzlx"
      },
      "execution_count": null,
      "outputs": []
    },
    {
      "cell_type": "markdown",
      "source": [
        "## Behavior cloning"
      ],
      "metadata": {
        "id": "j_jXR-1lA1lt"
      }
    },
    {
      "cell_type": "code",
      "source": [
        "# Basic behavioural cloning\n",
        "# Note: this uses gradient accumulation in batches of ones\n",
        "#       to perform training.\n",
        "#       This will fit inside even smaller GPUs (tested on 8GB one),\n",
        "#       but is slow.\n",
        "\n",
        "from argparse import ArgumentParser\n",
        "import pickle\n",
        "import time\n",
        "\n",
        "import gym\n",
        "import minerl\n",
        "import torch as th\n",
        "import numpy as np\n",
        "\n",
        "from drive.MyDrive.pythonLib.VPT.agent import PI_HEAD_KWARGS, MineRLAgent\n",
        "from drive.MyDrive.pythonLib.VPT.data_loader import DataLoader\n",
        "from drive.MyDrive.pythonLib.VPT.lib.tree_util import tree_map\n",
        "\n",
        "# Originally this code was designed for a small dataset of ~20 demonstrations per task.\n",
        "# The settings might not be the best for the full BASALT dataset (thousands of demonstrations).\n",
        "# Use this flag to switch between the two settings\n",
        "USING_FULL_DATASET = True\n",
        "\n",
        "EPOCHS = 1 if USING_FULL_DATASET else 2\n",
        "# Needs to be <= number of videos\n",
        "BATCH_SIZE = 64 if USING_FULL_DATASET else 16\n",
        "# Ideally more than batch size to create\n",
        "# variation in datasets (otherwise, you will\n",
        "# get a bunch of consecutive samples)\n",
        "# Decrease this (and batch_size) if you run out of memory\n",
        "N_WORKERS = 100 if USING_FULL_DATASET else 20\n",
        "DEVICE = \"cuda\"\n",
        "\n",
        "LOSS_REPORT_RATE = 100\n",
        "\n",
        "# Tuned with bit of trial and error\n",
        "LEARNING_RATE = 0.000181\n",
        "# OpenAI VPT BC weight decay\n",
        "# WEIGHT_DECAY = 0.039428\n",
        "WEIGHT_DECAY = 0.0\n",
        "# KL loss to the original model was not used in OpenAI VPT\n",
        "KL_LOSS_WEIGHT = 1.0\n",
        "MAX_GRAD_NORM = 5.0\n",
        "\n",
        "MAX_BATCHES = 2000 if USING_FULL_DATASET else int(1e9)"
      ],
      "metadata": {
        "id": "FVuCdx1tBSph"
      },
      "execution_count": null,
      "outputs": []
    },
    {
      "cell_type": "code",
      "source": [
        "def load_model_parameters(path_to_model_file):\n",
        "    agent_parameters = pickle.load(open(path_to_model_file, \"rb\"))\n",
        "    policy_kwargs = agent_parameters[\"model\"][\"args\"][\"net\"][\"args\"]\n",
        "    pi_head_kwargs = agent_parameters[\"model\"][\"args\"][\"pi_head_opts\"]\n",
        "    pi_head_kwargs[\"temperature\"] = float(pi_head_kwargs[\"temperature\"])\n",
        "    return policy_kwargs, pi_head_kwargs\n",
        "\n",
        "def behavioural_cloning_train(data_dir, in_model, in_weights, out_weights):\n",
        "    agent_policy_kwargs, agent_pi_head_kwargs = load_model_parameters(in_model)\n",
        "\n",
        "    # To create model with the right environment.\n",
        "    # All basalt environments have the same settings, so any of them works here\n",
        "    env = gym.make(\"MineRLBasaltFindCave-v0\")\n",
        "    agent = MineRLAgent(env, device=DEVICE, policy_kwargs=agent_policy_kwargs, pi_head_kwargs=agent_pi_head_kwargs)\n",
        "    agent.load_weights(in_weights)\n",
        "\n",
        "    # Create a copy which will have the original parameters\n",
        "    original_agent = MineRLAgent(env, device=DEVICE, policy_kwargs=agent_policy_kwargs, pi_head_kwargs=agent_pi_head_kwargs)\n",
        "    original_agent.load_weights(in_weights)\n",
        "    env.close()\n",
        "\n",
        "    policy = agent.policy\n",
        "    original_policy = original_agent.policy\n",
        "\n",
        "    # Freeze most params if using small dataset\n",
        "    for param in policy.parameters():\n",
        "        param.requires_grad = False\n",
        "    # Unfreeze final layers\n",
        "    trainable_parameters = []\n",
        "    for param in policy.net.lastlayer.parameters():\n",
        "        param.requires_grad = True\n",
        "        trainable_parameters.append(param)\n",
        "    for param in policy.pi_head.parameters():\n",
        "        param.requires_grad = True\n",
        "        trainable_parameters.append(param)\n",
        "\n",
        "    # Parameters taken from the OpenAI VPT paper\n",
        "    optimizer = th.optim.Adam(\n",
        "        trainable_parameters,\n",
        "        lr=LEARNING_RATE,\n",
        "        weight_decay=WEIGHT_DECAY\n",
        "    )\n",
        "\n",
        "    data_loader = DataLoader(\n",
        "        dataset_dir=data_dir,\n",
        "        n_workers=N_WORKERS,\n",
        "        batch_size=BATCH_SIZE,\n",
        "        n_epochs=EPOCHS,\n",
        "    )\n",
        "\n",
        "    start_time = time.time()\n",
        "\n",
        "    # Keep track of the hidden state per episode/trajectory.\n",
        "    # DataLoader provides unique id for each episode, which will\n",
        "    # be different even for the same trajectory when it is loaded\n",
        "    # up again\n",
        "    episode_hidden_states = {}\n",
        "    dummy_first = th.from_numpy(np.array((False,))).to(DEVICE)\n",
        "\n",
        "    loss_sum = 0\n",
        "    for batch_i, (batch_images, batch_actions, batch_episode_id) in enumerate(data_loader):\n",
        "        batch_loss = 0\n",
        "        for image, action, episode_id in zip(batch_images, batch_actions, batch_episode_id):\n",
        "            if image is None and action is None:\n",
        "                # A work-item was done. Remove hidden state\n",
        "                if episode_id in episode_hidden_states:\n",
        "                    removed_hidden_state = episode_hidden_states.pop(episode_id)\n",
        "                    del removed_hidden_state\n",
        "                continue\n",
        "\n",
        "            agent_action = agent._env_action_to_agent(action, to_torch=True, check_if_null=True)\n",
        "            if agent_action is None:\n",
        "                # Action was null\n",
        "                continue\n",
        "\n",
        "            agent_obs = agent._env_obs_to_agent({\"pov\": image})\n",
        "            if episode_id not in episode_hidden_states:\n",
        "                episode_hidden_states[episode_id] = policy.initial_state(1)\n",
        "            agent_state = episode_hidden_states[episode_id]\n",
        "\n",
        "            pi_distribution, _, new_agent_state = policy.get_output_for_observation(\n",
        "                agent_obs,\n",
        "                agent_state,\n",
        "                dummy_first\n",
        "            )\n",
        "\n",
        "            with th.no_grad():\n",
        "                original_pi_distribution, _, _ = original_policy.get_output_for_observation(\n",
        "                    agent_obs,\n",
        "                    agent_state,\n",
        "                    dummy_first\n",
        "                )\n",
        "\n",
        "            log_prob  = policy.get_logprob_of_action(pi_distribution, agent_action)\n",
        "            kl_div = policy.get_kl_of_action_dists(pi_distribution, original_pi_distribution)\n",
        "\n",
        "            # Make sure we do not try to backprop through sequence\n",
        "            # (fails with current accumulation)\n",
        "            new_agent_state = tree_map(lambda x: x.detach(), new_agent_state)\n",
        "            episode_hidden_states[episode_id] = new_agent_state\n",
        "\n",
        "            # Finally, update the agent to increase the probability of the\n",
        "            # taken action.\n",
        "            # Remember to take mean over batch losses\n",
        "            loss = (-log_prob + KL_LOSS_WEIGHT * kl_div) / BATCH_SIZE\n",
        "            batch_loss += loss.item()\n",
        "            loss.backward()\n",
        "\n",
        "        th.nn.utils.clip_grad_norm_(trainable_parameters, MAX_GRAD_NORM)\n",
        "        optimizer.step()\n",
        "        optimizer.zero_grad()\n",
        "\n",
        "        loss_sum += batch_loss\n",
        "        if batch_i % LOSS_REPORT_RATE == 0:\n",
        "            time_since_start = time.time() - start_time\n",
        "            print(f\"Time: {time_since_start:.2f}, Batches: {batch_i}, Avrg loss: {loss_sum / LOSS_REPORT_RATE:.4f}\")\n",
        "            loss_sum = 0\n",
        "\n",
        "        if batch_i > MAX_BATCHES:\n",
        "            break\n",
        "\n",
        "    state_dict = policy.state_dict()\n",
        "    th.save(state_dict, out_weights)"
      ],
      "metadata": {
        "id": "heVYjKXNBBPq"
      },
      "execution_count": null,
      "outputs": []
    }
  ],
  "metadata": {
    "colab": {
      "provenance": [],
      "include_colab_link": true
    },
    "gpuClass": "standard",
    "kernelspec": {
      "display_name": "Python 3",
      "name": "python3"
    },
    "language_info": {
      "name": "python"
    }
  },
  "nbformat": 4,
  "nbformat_minor": 0
}